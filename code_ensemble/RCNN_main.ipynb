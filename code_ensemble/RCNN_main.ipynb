{
 "cells": [
  {
   "cell_type": "code",
   "execution_count": 1,
   "metadata": {},
   "outputs": [
    {
     "name": "stderr",
     "output_type": "stream",
     "text": [
      "/home/paperspace/anaconda3/lib/python3.6/site-packages/h5py/__init__.py:34: FutureWarning: Conversion of the second argument of issubdtype from `float` to `np.floating` is deprecated. In future, it will be treated as `np.float64 == np.dtype(float).type`.\n",
      "  from ._conv import register_converters as _register_converters\n",
      "Using TensorFlow backend.\n"
     ]
    }
   ],
   "source": [
    "import sys\n",
    "import keras_rcnn\n",
    "from keras_rcnn import backend, datasets, layers, models, preprocessing\n",
    "import numpy\n",
    "import cv2\n",
    "import matplotlib\n",
    "import keras\n",
    "import json\n",
    "import rcnn_utils\n",
    "import skimage\n",
    "%matplotlib inline"
   ]
  },
  {
   "cell_type": "markdown",
   "metadata": {},
   "source": [
    "Definitions"
   ]
  },
  {
   "cell_type": "code",
   "execution_count": 2,
   "metadata": {
    "collapsed": true
   },
   "outputs": [],
   "source": [
    "train_json_file = '../input/DSB208_train.json'\n",
    "# test_json_file = '/home/paperspace/bowl/DSB208_test.json'\n",
    "train_path = '../input/stage1_train/'\n",
    "test_path = '../input/stage1_test/'\n",
    "weights_path = '../models/rcnn.hdf5'\n",
    "\n",
    "target_size=(128,128)\n",
    "batch_size=1\n",
    "\n",
    "train = True\n",
    "\n",
    "classes = {\n",
    "\t\"nucleus\": 1\n",
    "}"
   ]
  },
  {
   "cell_type": "markdown",
   "metadata": {},
   "source": [
    "build model"
   ]
  },
  {
   "cell_type": "code",
   "execution_count": null,
   "metadata": {},
   "outputs": [
    {
     "name": "stdout",
     "output_type": "stream",
     "text": [
      "building model...\n"
     ]
    },
    {
     "name": "stderr",
     "output_type": "stream",
     "text": [
      "/home/paperspace/anaconda3/lib/python3.6/site-packages/keras_rcnn/models/_rcnn.py:91: UserWarning: Output \"object_detection_1\" missing from loss dictionary. We assume this was done on purpose, and we will not be expecting any data to be passed to \"object_detection_1\" during training.\n",
      "  super(RCNN, self).compile(optimizer, None)\n"
     ]
    }
   ],
   "source": [
    "print('building model...')\n",
    "model_input = keras.layers.Input((None, None, 3))\n",
    "\n",
    "model = keras_rcnn.models.RCNN(model_input, classes=len(classes) + 1)\n",
    "\n",
    "model.load_weights(weights_path)\n",
    "\n",
    "optimizer = keras.optimizers.Adam(0.0001)\n",
    "\n",
    "model.compile(optimizer)\n",
    "# model.summary(line_length=150)\n",
    "# model.fit_generator(generator, epochs=10, steps_per_epoch=len(training))\n",
    "# model.save_weights(weights_path)"
   ]
  },
  {
   "cell_type": "code",
   "execution_count": null,
   "metadata": {
    "scrolled": false
   },
   "outputs": [
    {
     "name": "stdout",
     "output_type": "stream",
     "text": [
      "loading data...\n"
     ]
    },
    {
     "name": "stderr",
     "output_type": "stream",
     "text": [
      "/home/paperspace/anaconda3/lib/python3.6/site-packages/tensorflow/python/ops/gradients_impl.py:96: UserWarning: Converting sparse IndexedSlices to a dense Tensor of unknown shape. This may consume a large amount of memory.\n",
      "  \"Converting sparse IndexedSlices to a dense Tensor of unknown shape. \"\n"
     ]
    },
    {
     "name": "stdout",
     "output_type": "stream",
     "text": [
      "Epoch 1/10\n",
      "670/670 [==============================] - 560s 836ms/step - loss: 2.3773\n",
      "Epoch 2/10\n",
      "670/670 [==============================] - 510s 760ms/step - loss: 2.3561\n",
      "Epoch 3/10\n",
      "670/670 [==============================] - 484s 722ms/step - loss: 2.5477\n",
      "Epoch 4/10\n",
      "670/670 [==============================] - 497s 742ms/step - loss: 2.1227\n",
      "Epoch 5/10\n",
      "670/670 [==============================] - 496s 740ms/step - loss: 2.0543\n",
      "Epoch 6/10\n",
      "670/670 [==============================] - 478s 714ms/step - loss: 2.4306\n",
      "Epoch 7/10\n",
      "336/670 [==============>...............] - ETA: 4:05 - loss: 2.4606"
     ]
    }
   ],
   "source": [
    "if train:\n",
    "\twith open(train_json_file, 'r') as file:\n",
    "\t\ttraining = json.load(file)\n",
    "\n",
    "\t#with open(train_json_file, 'w') as file:\n",
    "\t#\tjson.dump(training, file)\n",
    "\t#sys.exit()\n",
    "\t#for item in training:\n",
    "\t#\tfor object_ in item['objects']:\n",
    "\t#\t\tif '/DSB2018' in object_['mask']['pathname']:\n",
    "\t#\t\t\tobject_['mask']['pathname'] = '../input' + object_['mask']['pathname'][object_['mask']['pathname'].find('/DSB2018'):]\n",
    "\t#with open(train_json_file, 'w') as file:\n",
    "\t#\tjson.dump(training, file)\n",
    "\t#sys.exit()\n",
    "    \n",
    "\tfor item in training:\n",
    "\t\t#item['shape'] = (item['image']['shape']['r'], item['image']['shape']['c'], item['image']['shape']['channels'])\n",
    "\t\t#item['filename'] = item['image']['pathname']\n",
    "\t\t#item['boxes'] = []\n",
    "\t\t#for x in item['objects']:\n",
    "\t\t\t#item['boxes'].append({})\n",
    "\t\t\t#item['boxes'][-1]['class'] = x['class']\n",
    "\t\t\t#item['boxes'].append([x['bounding_box']['minimum']['c'], x['bounding_box']['minimum']['r'], \n",
    "\t\t\t#            x['bounding_box']['maximum']['c'], x['bounding_box']['maximum']['r']])\n",
    "\t\t\t#item['boxes'][-1]['x1'] = x['bounding_box']['minimum']['c']\n",
    "\t\t\t#item['boxes'][-1]['x2'] = x['bounding_box']['maximum']['c']\n",
    "\t\t\t#item['boxes'][-1]['y1'] = x['bounding_box']['minimum']['r']\n",
    "\t\t\t#item['boxes'][-1]['y2'] = x['bounding_box']['maximum']['r']\n",
    "\t\t# item['boxes'] = []\n",
    "\t\t# for x in item['objects']:\n",
    "\n",
    "\t\t\t# item['boxes'].append([x['bounding_box']['minimum']['c'], x['bounding_box']['minimum']['r'], \n",
    "\t\t\t#            x['bounding_box']['maximum']['c'], x['bounding_box']['maximum']['r']])\n",
    "\t\titem['boxes'] = numpy.array(item['boxes'])\n",
    "\t\titem['class'] = numpy.array([[0,1] for x in range(len(item['boxes']))])\n",
    "\n",
    "\tprint('loading data...')\n",
    "\tgenerator = iter(rcnn_utils.train_gen(training, target_size))\n",
    "\t# with open(train_json_file, 'w') as file:\n",
    "\t#   json.dump(training, file)\n",
    "\t# sys.exit()\n",
    "\t\n",
    "\t# training, validation = sklearn.model_selection.train_test_split(training)\n",
    "\t\n",
    "\t\n",
    "\n",
    "\tfor _ in range(0,10):\n",
    "\t\t(target_bounding_boxes, target_image, target_scores, meta), _ = next(generator)\n",
    "\t\ttarget_bounding_boxes = numpy.reshape(target_bounding_boxes, (-1, 4))\n",
    "\n",
    "\t\ttarget_image = numpy.squeeze(target_image)\n",
    "\n",
    "\t\ttarget_scores = numpy.argmax(target_scores, -1)\n",
    "\n",
    "\t\ttarget_scores = numpy.reshape(target_scores, (-1))\n",
    "\n",
    "\t\t#print(target_bounding_boxes.shape)\n",
    "\t\t#print(target_image.shape)\n",
    "\t\t#print(target_scores.shape)\n",
    "\n",
    "\t\t_, axis = matplotlib.pyplot.subplots(1, figsize=(12, 8))\n",
    "\n",
    "\t\taxis.imshow(target_image)\n",
    "\t\t#if len(list(target_scores)) > 0:\n",
    "\t\tfor target_index, target_score in enumerate(target_scores):\n",
    "\t\t\tif target_score > 0:\n",
    "\t\t\t\txy = [target_bounding_boxes[target_index][0],target_bounding_boxes[target_index][1]]\n",
    "\t\t\t\t#print(xy)\n",
    "\t\t\t\tw = target_bounding_boxes[target_index][2] - target_bounding_boxes[target_index][0]\n",
    "\t\t\t\th = target_bounding_boxes[target_index][3] - target_bounding_boxes[target_index][1]\n",
    "\t\t\t\trectangle = matplotlib.patches.Rectangle(xy, w, h, edgecolor=\"r\", facecolor=\"none\")\n",
    "\t\t\t\t#print(xy, w, h)\n",
    "\t\t\t\taxis.add_patch(rectangle)\n",
    "\n",
    "\t#   matplotlib.pyplot.show()\n",
    "\n",
    "\t# sys.exit()\n",
    "\n",
    "\n",
    "\n",
    "\n",
    "\t# for i in range(0, 5):\n",
    "\t#   target_image = skimage.io.imread(training[i]['filename'])[:,:,:3]\n",
    "\t#   target_bounding_boxes = training[i]['boxes']\n",
    "\t#   target_scores = training[i]['class']\n",
    "\t#   #print('loading one image')\n",
    "\t#   #(target_bounding_boxes, target_image, target_scores, _), _ = generator.next()\n",
    "\t#   #print('loaded one image')\n",
    "\t#   #target_bounding_boxes = numpy.squeeze(target_bounding_boxes)\n",
    "\n",
    "\t#   #target_image = numpy.squeeze(target_image)\n",
    "\n",
    "\t#   # target_scores = numpy.argmax(target_scores, -1)\n",
    "\n",
    "\t#   # target_scores = numpy.squeeze(target_scores)\n",
    "\n",
    "\t#   _, axis = matplotlib.pyplot.subplots(1, figsize=(12, 8))\n",
    "\n",
    "\t#   axis.imshow(target_image)\n",
    "\n",
    "\t#   #for target_index, target_score in enumerate(target_scores):\n",
    "\t#   for i, box in enumerate(target_bounding_boxes):\n",
    "\t#       #if target_score > 0:\n",
    "\t#       target_score = target_scores[i]\n",
    "\t#       xy = [\n",
    "\t#           box['x1'],\n",
    "\t#           box['y1']\n",
    "\t#       ]\n",
    "\n",
    "\t#       w = box['x2'] - box['x1']\n",
    "\t#       h = box['y2'] - box['y1']\n",
    "\n",
    "\t#       rectangle = matplotlib.patches.Rectangle(xy, w, h, edgecolor=\"r\", facecolor=\"none\")\n",
    "\n",
    "\t#       axis.add_patch(rectangle)\n",
    "\n",
    "\t#   matplotlib.pyplot.show()\n",
    "\tmodel.fit_generator(generator, epochs=10, steps_per_epoch=len(training))\n",
    "\tmodel.save_weights(weights_path)\n",
    "\n",
    "\n",
    "else:\n",
    "\ttest_generator = rcnn_utils.test_gen(test_path)\n",
    "\ttest_ids = next(os.walk(test_path))[1]\n",
    "\t# visualize prediction\n",
    "\tpreds = []\n",
    "\tfor i in range(0, len(test_ids)):\n",
    "\t\texample = next(test_generator)\n",
    "\t\ttarget_bounding_boxes, target_image, target_labels, _ = example\n",
    "\t\t#target_bounding_boxes = numpy.squeeze(target_bounding_boxes)\n",
    "\t\ttarget_image = numpy.squeeze(target_image)\n",
    "\t\t#target_labels = numpy.argmax(target_labels, -1)\n",
    "\t\t#target_labels = numpy.squeeze(target_labels)\n",
    "\t\t# output_anchors, output_proposals, output_deltas, output_scores = model.predict(example)\n",
    "\t\toutput_anchors, output_scores = model.predict(example)\n",
    "\t\tpreds.append((output_anchors, output_scores))\n",
    "\t\toutput_anchors = numpy.squeeze(output_anchors)\n",
    "\t\t# output_proposals = numpy.squeeze(output_proposals)\n",
    "\t\t# output_deltas = numpy.squeeze(output_deltas)\n",
    "\t\toutput_scores = numpy.squeeze(output_scores)\n",
    "\t\t_, axis = matplotlib.pyplot.subplots(1)\n",
    "\t\taxis.imshow(target_image)\n",
    "\t\taxis.set_title(test_ids[i])\n",
    "\t\t#for index, label in enumerate(target_labels):\n",
    "\t\t#   if label == 1:\n",
    "\t\t#       xy = [\n",
    "\t\t#       target_bounding_boxes[index][0],\n",
    "\t\t#       target_bounding_boxes[index][1]\n",
    "\t\t#       ]\n",
    "\t\t#       w = target_bounding_boxes[index][2] - target_bounding_boxes[index][0]\n",
    "\t\t#       h = target_bounding_boxes[index][3] - target_bounding_boxes[index][1]\n",
    "\t\t#       rectangle = matplotlib.patches.Rectangle(xy, w, h, edgecolor=\"g\", facecolor=\"none\")\n",
    "\t\t#       axis.add_patch(rectangle)\n",
    "\t\tfor index, score in enumerate(output_scores):\n",
    "\t\t\tif score[1] > 0.50:\n",
    "\t\t\t\txy = [\n",
    "\t\t\t\toutput_anchors[index][0],\n",
    "\t\t\t\toutput_anchors[index][1]\n",
    "\t\t\t\t]\n",
    "\t\t\t\tw = output_anchors[index][2] - output_anchors[index][0]\n",
    "\t\t\t\th = output_anchors[index][3] - output_anchors[index][1]\n",
    "\t\t\t\trectangle = matplotlib.patches.Rectangle(xy, w, h, edgecolor=\"r\", facecolor=\"none\")\n",
    "\t\t\t\taxis.add_patch(rectangle)\n",
    "\t\tmatplotlib.pyplot.show()"
   ]
  },
  {
   "cell_type": "code",
   "execution_count": null,
   "metadata": {
    "collapsed": true
   },
   "outputs": [],
   "source": []
  }
 ],
 "metadata": {
  "kernelspec": {
   "display_name": "Python 3",
   "language": "python",
   "name": "python3"
  },
  "language_info": {
   "codemirror_mode": {
    "name": "ipython",
    "version": 3
   },
   "file_extension": ".py",
   "mimetype": "text/x-python",
   "name": "python",
   "nbconvert_exporter": "python",
   "pygments_lexer": "ipython3",
   "version": "3.6.3"
  }
 },
 "nbformat": 4,
 "nbformat_minor": 2
}
